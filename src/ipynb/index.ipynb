{
 "cells": [
  {
   "cell_type": "markdown",
   "id": "17f1d5b7",
   "metadata": {},
   "source": [
    "# Kepler16b\n",
    "The Kepler16b project is developing a hypothetical mission to an exoplanet that is millions of light years away."
   ]
  },
  {
   "cell_type": "markdown",
   "id": "5c12216b",
   "metadata": {},
   "source": [
    "## Missions\n",
    "The Kepler16b project delivers two missions: [a Lander Mission](doc/example.com/tutorial2/description/missions/lander.html) and an [Orbiter Mission](doc/example.com/tutorial2/description/missions/orbiter.html), each of which pursues a number of objectives. For details, check the [full documentation](doc)."
   ]
  }
 ],
 "metadata": {
  "kernelspec": {
   "display_name": "tutorial2",
   "language": "python",
   "name": "python3"
  },
  "language_info": {
   "name": "python",
   "version": "3.9.2"
  }
 },
 "nbformat": 4,
 "nbformat_minor": 5
}
